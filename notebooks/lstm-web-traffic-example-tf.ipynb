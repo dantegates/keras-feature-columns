{
 "cells": [
  {
   "cell_type": "code",
   "execution_count": 1,
   "metadata": {},
   "outputs": [],
   "source": [
    "import pandas as pd"
   ]
  },
  {
   "cell_type": "code",
   "execution_count": 2,
   "metadata": {},
   "outputs": [],
   "source": [
    "df = pd.read_csv('~/.kaggle/competitions/web-traffic-time-series-forecasting/train_1.csv.zip')"
   ]
  },
  {
   "cell_type": "code",
   "execution_count": 3,
   "metadata": {},
   "outputs": [
    {
     "data": {
      "text/plain": [
       "(145063, 551)"
      ]
     },
     "execution_count": 3,
     "metadata": {},
     "output_type": "execute_result"
    }
   ],
   "source": [
    "df.shape"
   ]
  },
  {
   "cell_type": "code",
   "execution_count": 4,
   "metadata": {},
   "outputs": [
    {
     "data": {
      "text/html": [
       "<div>\n",
       "<style scoped>\n",
       "    .dataframe tbody tr th:only-of-type {\n",
       "        vertical-align: middle;\n",
       "    }\n",
       "\n",
       "    .dataframe tbody tr th {\n",
       "        vertical-align: top;\n",
       "    }\n",
       "\n",
       "    .dataframe thead th {\n",
       "        text-align: right;\n",
       "    }\n",
       "</style>\n",
       "<table border=\"1\" class=\"dataframe\">\n",
       "  <thead>\n",
       "    <tr style=\"text-align: right;\">\n",
       "      <th></th>\n",
       "      <th>Page</th>\n",
       "      <th>2015-07-01</th>\n",
       "      <th>2015-07-02</th>\n",
       "      <th>2015-07-03</th>\n",
       "      <th>2015-07-04</th>\n",
       "      <th>2015-07-05</th>\n",
       "      <th>2015-07-06</th>\n",
       "      <th>2015-07-07</th>\n",
       "      <th>2015-07-08</th>\n",
       "      <th>2015-07-09</th>\n",
       "      <th>...</th>\n",
       "      <th>2016-12-22</th>\n",
       "      <th>2016-12-23</th>\n",
       "      <th>2016-12-24</th>\n",
       "      <th>2016-12-25</th>\n",
       "      <th>2016-12-26</th>\n",
       "      <th>2016-12-27</th>\n",
       "      <th>2016-12-28</th>\n",
       "      <th>2016-12-29</th>\n",
       "      <th>2016-12-30</th>\n",
       "      <th>2016-12-31</th>\n",
       "    </tr>\n",
       "  </thead>\n",
       "  <tbody>\n",
       "    <tr>\n",
       "      <th>0</th>\n",
       "      <td>2NE1_zh.wikipedia.org_all-access_spider</td>\n",
       "      <td>18.0</td>\n",
       "      <td>11.0</td>\n",
       "      <td>5.0</td>\n",
       "      <td>13.0</td>\n",
       "      <td>14.0</td>\n",
       "      <td>9.0</td>\n",
       "      <td>9.0</td>\n",
       "      <td>22.0</td>\n",
       "      <td>26.0</td>\n",
       "      <td>...</td>\n",
       "      <td>32.0</td>\n",
       "      <td>63.0</td>\n",
       "      <td>15.0</td>\n",
       "      <td>26.0</td>\n",
       "      <td>14.0</td>\n",
       "      <td>20.0</td>\n",
       "      <td>22.0</td>\n",
       "      <td>19.0</td>\n",
       "      <td>18.0</td>\n",
       "      <td>20.0</td>\n",
       "    </tr>\n",
       "    <tr>\n",
       "      <th>1</th>\n",
       "      <td>2PM_zh.wikipedia.org_all-access_spider</td>\n",
       "      <td>11.0</td>\n",
       "      <td>14.0</td>\n",
       "      <td>15.0</td>\n",
       "      <td>18.0</td>\n",
       "      <td>11.0</td>\n",
       "      <td>13.0</td>\n",
       "      <td>22.0</td>\n",
       "      <td>11.0</td>\n",
       "      <td>10.0</td>\n",
       "      <td>...</td>\n",
       "      <td>17.0</td>\n",
       "      <td>42.0</td>\n",
       "      <td>28.0</td>\n",
       "      <td>15.0</td>\n",
       "      <td>9.0</td>\n",
       "      <td>30.0</td>\n",
       "      <td>52.0</td>\n",
       "      <td>45.0</td>\n",
       "      <td>26.0</td>\n",
       "      <td>20.0</td>\n",
       "    </tr>\n",
       "    <tr>\n",
       "      <th>2</th>\n",
       "      <td>3C_zh.wikipedia.org_all-access_spider</td>\n",
       "      <td>1.0</td>\n",
       "      <td>0.0</td>\n",
       "      <td>1.0</td>\n",
       "      <td>1.0</td>\n",
       "      <td>0.0</td>\n",
       "      <td>4.0</td>\n",
       "      <td>0.0</td>\n",
       "      <td>3.0</td>\n",
       "      <td>4.0</td>\n",
       "      <td>...</td>\n",
       "      <td>3.0</td>\n",
       "      <td>1.0</td>\n",
       "      <td>1.0</td>\n",
       "      <td>7.0</td>\n",
       "      <td>4.0</td>\n",
       "      <td>4.0</td>\n",
       "      <td>6.0</td>\n",
       "      <td>3.0</td>\n",
       "      <td>4.0</td>\n",
       "      <td>17.0</td>\n",
       "    </tr>\n",
       "    <tr>\n",
       "      <th>3</th>\n",
       "      <td>4minute_zh.wikipedia.org_all-access_spider</td>\n",
       "      <td>35.0</td>\n",
       "      <td>13.0</td>\n",
       "      <td>10.0</td>\n",
       "      <td>94.0</td>\n",
       "      <td>4.0</td>\n",
       "      <td>26.0</td>\n",
       "      <td>14.0</td>\n",
       "      <td>9.0</td>\n",
       "      <td>11.0</td>\n",
       "      <td>...</td>\n",
       "      <td>32.0</td>\n",
       "      <td>10.0</td>\n",
       "      <td>26.0</td>\n",
       "      <td>27.0</td>\n",
       "      <td>16.0</td>\n",
       "      <td>11.0</td>\n",
       "      <td>17.0</td>\n",
       "      <td>19.0</td>\n",
       "      <td>10.0</td>\n",
       "      <td>11.0</td>\n",
       "    </tr>\n",
       "    <tr>\n",
       "      <th>4</th>\n",
       "      <td>52_Hz_I_Love_You_zh.wikipedia.org_all-access_s...</td>\n",
       "      <td>NaN</td>\n",
       "      <td>NaN</td>\n",
       "      <td>NaN</td>\n",
       "      <td>NaN</td>\n",
       "      <td>NaN</td>\n",
       "      <td>NaN</td>\n",
       "      <td>NaN</td>\n",
       "      <td>NaN</td>\n",
       "      <td>NaN</td>\n",
       "      <td>...</td>\n",
       "      <td>48.0</td>\n",
       "      <td>9.0</td>\n",
       "      <td>25.0</td>\n",
       "      <td>13.0</td>\n",
       "      <td>3.0</td>\n",
       "      <td>11.0</td>\n",
       "      <td>27.0</td>\n",
       "      <td>13.0</td>\n",
       "      <td>36.0</td>\n",
       "      <td>10.0</td>\n",
       "    </tr>\n",
       "  </tbody>\n",
       "</table>\n",
       "<p>5 rows × 551 columns</p>\n",
       "</div>"
      ],
      "text/plain": [
       "                                                Page  2015-07-01  2015-07-02  \\\n",
       "0            2NE1_zh.wikipedia.org_all-access_spider        18.0        11.0   \n",
       "1             2PM_zh.wikipedia.org_all-access_spider        11.0        14.0   \n",
       "2              3C_zh.wikipedia.org_all-access_spider         1.0         0.0   \n",
       "3         4minute_zh.wikipedia.org_all-access_spider        35.0        13.0   \n",
       "4  52_Hz_I_Love_You_zh.wikipedia.org_all-access_s...         NaN         NaN   \n",
       "\n",
       "   2015-07-03  2015-07-04  2015-07-05  2015-07-06  2015-07-07  2015-07-08  \\\n",
       "0         5.0        13.0        14.0         9.0         9.0        22.0   \n",
       "1        15.0        18.0        11.0        13.0        22.0        11.0   \n",
       "2         1.0         1.0         0.0         4.0         0.0         3.0   \n",
       "3        10.0        94.0         4.0        26.0        14.0         9.0   \n",
       "4         NaN         NaN         NaN         NaN         NaN         NaN   \n",
       "\n",
       "   2015-07-09  ...  2016-12-22  2016-12-23  2016-12-24  2016-12-25  \\\n",
       "0        26.0  ...        32.0        63.0        15.0        26.0   \n",
       "1        10.0  ...        17.0        42.0        28.0        15.0   \n",
       "2         4.0  ...         3.0         1.0         1.0         7.0   \n",
       "3        11.0  ...        32.0        10.0        26.0        27.0   \n",
       "4         NaN  ...        48.0         9.0        25.0        13.0   \n",
       "\n",
       "   2016-12-26  2016-12-27  2016-12-28  2016-12-29  2016-12-30  2016-12-31  \n",
       "0        14.0        20.0        22.0        19.0        18.0        20.0  \n",
       "1         9.0        30.0        52.0        45.0        26.0        20.0  \n",
       "2         4.0         4.0         6.0         3.0         4.0        17.0  \n",
       "3        16.0        11.0        17.0        19.0        10.0        11.0  \n",
       "4         3.0        11.0        27.0        13.0        36.0        10.0  \n",
       "\n",
       "[5 rows x 551 columns]"
      ]
     },
     "execution_count": 4,
     "metadata": {},
     "output_type": "execute_result"
    }
   ],
   "source": [
    "df.head()"
   ]
  },
  {
   "cell_type": "code",
   "execution_count": 5,
   "metadata": {},
   "outputs": [
    {
     "data": {
      "text/plain": [
       "(117277, 551)"
      ]
     },
     "execution_count": 5,
     "metadata": {},
     "output_type": "execute_result"
    }
   ],
   "source": [
    "df = df[~df.isnull().any(axis=1)]\n",
    "df.shape"
   ]
  },
  {
   "cell_type": "code",
   "execution_count": 6,
   "metadata": {
    "scrolled": true
   },
   "outputs": [],
   "source": [
    "# name_project_access_agent\n",
    "def page_features():\n",
    "    feature_names = ['name', 'project', 'access', 'agent']\n",
    "    def parse_features(page):\n",
    "        features = []\n",
    "        for i in range(len(feature_names)):\n",
    "            page, sep, feature = page.rpartition('_')\n",
    "            features.append(feature)\n",
    "        return features\n",
    "    page_features = (parse_features(page) for page in df.Page)\n",
    "    return pd.DataFrame(page_features, columns=feature_names[::-1])\n",
    "X_static = page_features()       "
   ]
  },
  {
   "cell_type": "code",
   "execution_count": 7,
   "metadata": {
    "scrolled": true
   },
   "outputs": [
    {
     "data": {
      "text/html": [
       "<div>\n",
       "<style scoped>\n",
       "    .dataframe tbody tr th:only-of-type {\n",
       "        vertical-align: middle;\n",
       "    }\n",
       "\n",
       "    .dataframe tbody tr th {\n",
       "        vertical-align: top;\n",
       "    }\n",
       "\n",
       "    .dataframe thead th {\n",
       "        text-align: right;\n",
       "    }\n",
       "</style>\n",
       "<table border=\"1\" class=\"dataframe\">\n",
       "  <thead>\n",
       "    <tr style=\"text-align: right;\">\n",
       "      <th></th>\n",
       "      <th>agent</th>\n",
       "      <th>access</th>\n",
       "      <th>project</th>\n",
       "      <th>name</th>\n",
       "    </tr>\n",
       "  </thead>\n",
       "  <tbody>\n",
       "    <tr>\n",
       "      <th>0</th>\n",
       "      <td>spider</td>\n",
       "      <td>all-access</td>\n",
       "      <td>zh.wikipedia.org</td>\n",
       "      <td>2NE1</td>\n",
       "    </tr>\n",
       "    <tr>\n",
       "      <th>1</th>\n",
       "      <td>spider</td>\n",
       "      <td>all-access</td>\n",
       "      <td>zh.wikipedia.org</td>\n",
       "      <td>2PM</td>\n",
       "    </tr>\n",
       "    <tr>\n",
       "      <th>2</th>\n",
       "      <td>spider</td>\n",
       "      <td>all-access</td>\n",
       "      <td>zh.wikipedia.org</td>\n",
       "      <td>3C</td>\n",
       "    </tr>\n",
       "    <tr>\n",
       "      <th>3</th>\n",
       "      <td>spider</td>\n",
       "      <td>all-access</td>\n",
       "      <td>zh.wikipedia.org</td>\n",
       "      <td>4minute</td>\n",
       "    </tr>\n",
       "    <tr>\n",
       "      <th>4</th>\n",
       "      <td>spider</td>\n",
       "      <td>all-access</td>\n",
       "      <td>zh.wikipedia.org</td>\n",
       "      <td>5566</td>\n",
       "    </tr>\n",
       "  </tbody>\n",
       "</table>\n",
       "</div>"
      ],
      "text/plain": [
       "    agent      access           project     name\n",
       "0  spider  all-access  zh.wikipedia.org     2NE1\n",
       "1  spider  all-access  zh.wikipedia.org      2PM\n",
       "2  spider  all-access  zh.wikipedia.org       3C\n",
       "3  spider  all-access  zh.wikipedia.org  4minute\n",
       "4  spider  all-access  zh.wikipedia.org     5566"
      ]
     },
     "execution_count": 7,
     "metadata": {},
     "output_type": "execute_result"
    }
   ],
   "source": [
    "X_static.head()"
   ]
  },
  {
   "cell_type": "code",
   "execution_count": 8,
   "metadata": {},
   "outputs": [
    {
     "data": {
      "text/plain": [
       "(117277, 30)"
      ]
     },
     "execution_count": 8,
     "metadata": {},
     "output_type": "execute_result"
    }
   ],
   "source": [
    "X_pageviews = df.iloc[:, -31:-1]\n",
    "X_pageviews.shape"
   ]
  },
  {
   "cell_type": "code",
   "execution_count": 9,
   "metadata": {},
   "outputs": [
    {
     "data": {
      "text/html": [
       "<div>\n",
       "<style scoped>\n",
       "    .dataframe tbody tr th:only-of-type {\n",
       "        vertical-align: middle;\n",
       "    }\n",
       "\n",
       "    .dataframe tbody tr th {\n",
       "        vertical-align: top;\n",
       "    }\n",
       "\n",
       "    .dataframe thead th {\n",
       "        text-align: right;\n",
       "    }\n",
       "</style>\n",
       "<table border=\"1\" class=\"dataframe\">\n",
       "  <thead>\n",
       "    <tr style=\"text-align: right;\">\n",
       "      <th></th>\n",
       "      <th>pageviews_0</th>\n",
       "      <th>pageviews_1</th>\n",
       "      <th>pageviews_2</th>\n",
       "      <th>pageviews_3</th>\n",
       "      <th>pageviews_4</th>\n",
       "      <th>pageviews_5</th>\n",
       "      <th>pageviews_6</th>\n",
       "      <th>pageviews_7</th>\n",
       "      <th>pageviews_8</th>\n",
       "      <th>pageviews_9</th>\n",
       "      <th>...</th>\n",
       "      <th>pageviews_21</th>\n",
       "      <th>pageviews_22</th>\n",
       "      <th>pageviews_23</th>\n",
       "      <th>pageviews_24</th>\n",
       "      <th>pageviews_25</th>\n",
       "      <th>pageviews_26</th>\n",
       "      <th>pageviews_27</th>\n",
       "      <th>pageviews_28</th>\n",
       "      <th>pageviews_29</th>\n",
       "      <th>target</th>\n",
       "    </tr>\n",
       "  </thead>\n",
       "  <tbody>\n",
       "    <tr>\n",
       "      <th>0</th>\n",
       "      <td>14.0</td>\n",
       "      <td>47.0</td>\n",
       "      <td>15.0</td>\n",
       "      <td>14.0</td>\n",
       "      <td>18.0</td>\n",
       "      <td>20.0</td>\n",
       "      <td>14.0</td>\n",
       "      <td>16.0</td>\n",
       "      <td>14.0</td>\n",
       "      <td>20.0</td>\n",
       "      <td>...</td>\n",
       "      <td>32.0</td>\n",
       "      <td>63.0</td>\n",
       "      <td>15.0</td>\n",
       "      <td>26.0</td>\n",
       "      <td>14.0</td>\n",
       "      <td>20.0</td>\n",
       "      <td>22.0</td>\n",
       "      <td>19.0</td>\n",
       "      <td>18.0</td>\n",
       "      <td>20.0</td>\n",
       "    </tr>\n",
       "    <tr>\n",
       "      <th>1</th>\n",
       "      <td>17.0</td>\n",
       "      <td>23.0</td>\n",
       "      <td>19.0</td>\n",
       "      <td>21.0</td>\n",
       "      <td>47.0</td>\n",
       "      <td>28.0</td>\n",
       "      <td>22.0</td>\n",
       "      <td>22.0</td>\n",
       "      <td>65.0</td>\n",
       "      <td>27.0</td>\n",
       "      <td>...</td>\n",
       "      <td>17.0</td>\n",
       "      <td>42.0</td>\n",
       "      <td>28.0</td>\n",
       "      <td>15.0</td>\n",
       "      <td>9.0</td>\n",
       "      <td>30.0</td>\n",
       "      <td>52.0</td>\n",
       "      <td>45.0</td>\n",
       "      <td>26.0</td>\n",
       "      <td>20.0</td>\n",
       "    </tr>\n",
       "    <tr>\n",
       "      <th>2</th>\n",
       "      <td>8.0</td>\n",
       "      <td>1.0</td>\n",
       "      <td>1.0</td>\n",
       "      <td>2.0</td>\n",
       "      <td>5.0</td>\n",
       "      <td>3.0</td>\n",
       "      <td>3.0</td>\n",
       "      <td>3.0</td>\n",
       "      <td>7.0</td>\n",
       "      <td>3.0</td>\n",
       "      <td>...</td>\n",
       "      <td>3.0</td>\n",
       "      <td>1.0</td>\n",
       "      <td>1.0</td>\n",
       "      <td>7.0</td>\n",
       "      <td>4.0</td>\n",
       "      <td>4.0</td>\n",
       "      <td>6.0</td>\n",
       "      <td>3.0</td>\n",
       "      <td>4.0</td>\n",
       "      <td>17.0</td>\n",
       "    </tr>\n",
       "    <tr>\n",
       "      <th>3</th>\n",
       "      <td>5.0</td>\n",
       "      <td>10.0</td>\n",
       "      <td>8.0</td>\n",
       "      <td>17.0</td>\n",
       "      <td>13.0</td>\n",
       "      <td>23.0</td>\n",
       "      <td>40.0</td>\n",
       "      <td>16.0</td>\n",
       "      <td>17.0</td>\n",
       "      <td>41.0</td>\n",
       "      <td>...</td>\n",
       "      <td>32.0</td>\n",
       "      <td>10.0</td>\n",
       "      <td>26.0</td>\n",
       "      <td>27.0</td>\n",
       "      <td>16.0</td>\n",
       "      <td>11.0</td>\n",
       "      <td>17.0</td>\n",
       "      <td>19.0</td>\n",
       "      <td>10.0</td>\n",
       "      <td>11.0</td>\n",
       "    </tr>\n",
       "    <tr>\n",
       "      <th>5</th>\n",
       "      <td>18.0</td>\n",
       "      <td>15.0</td>\n",
       "      <td>19.0</td>\n",
       "      <td>35.0</td>\n",
       "      <td>16.0</td>\n",
       "      <td>25.0</td>\n",
       "      <td>13.0</td>\n",
       "      <td>19.0</td>\n",
       "      <td>15.0</td>\n",
       "      <td>25.0</td>\n",
       "      <td>...</td>\n",
       "      <td>16.0</td>\n",
       "      <td>27.0</td>\n",
       "      <td>8.0</td>\n",
       "      <td>17.0</td>\n",
       "      <td>32.0</td>\n",
       "      <td>19.0</td>\n",
       "      <td>23.0</td>\n",
       "      <td>17.0</td>\n",
       "      <td>17.0</td>\n",
       "      <td>50.0</td>\n",
       "    </tr>\n",
       "  </tbody>\n",
       "</table>\n",
       "<p>5 rows × 31 columns</p>\n",
       "</div>"
      ],
      "text/plain": [
       "   pageviews_0  pageviews_1  pageviews_2  pageviews_3  pageviews_4  \\\n",
       "0         14.0         47.0         15.0         14.0         18.0   \n",
       "1         17.0         23.0         19.0         21.0         47.0   \n",
       "2          8.0          1.0          1.0          2.0          5.0   \n",
       "3          5.0         10.0          8.0         17.0         13.0   \n",
       "5         18.0         15.0         19.0         35.0         16.0   \n",
       "\n",
       "   pageviews_5  pageviews_6  pageviews_7  pageviews_8  pageviews_9  ...  \\\n",
       "0         20.0         14.0         16.0         14.0         20.0  ...   \n",
       "1         28.0         22.0         22.0         65.0         27.0  ...   \n",
       "2          3.0          3.0          3.0          7.0          3.0  ...   \n",
       "3         23.0         40.0         16.0         17.0         41.0  ...   \n",
       "5         25.0         13.0         19.0         15.0         25.0  ...   \n",
       "\n",
       "   pageviews_21  pageviews_22  pageviews_23  pageviews_24  pageviews_25  \\\n",
       "0          32.0          63.0          15.0          26.0          14.0   \n",
       "1          17.0          42.0          28.0          15.0           9.0   \n",
       "2           3.0           1.0           1.0           7.0           4.0   \n",
       "3          32.0          10.0          26.0          27.0          16.0   \n",
       "5          16.0          27.0           8.0          17.0          32.0   \n",
       "\n",
       "   pageviews_26  pageviews_27  pageviews_28  pageviews_29  target  \n",
       "0          20.0          22.0          19.0          18.0    20.0  \n",
       "1          30.0          52.0          45.0          26.0    20.0  \n",
       "2           4.0           6.0           3.0           4.0    17.0  \n",
       "3          11.0          17.0          19.0          10.0    11.0  \n",
       "5          19.0          23.0          17.0          17.0    50.0  \n",
       "\n",
       "[5 rows x 31 columns]"
      ]
     },
     "execution_count": 9,
     "metadata": {},
     "output_type": "execute_result"
    }
   ],
   "source": [
    "X_pageviews = df.iloc[:,-31:]\n",
    "X_pageviews.columns = [f'pageviews_{i}' if i != 30 else 'target' for i in range(31)]\n",
    "X_pageviews.head()"
   ]
  },
  {
   "cell_type": "code",
   "execution_count": 10,
   "metadata": {},
   "outputs": [
    {
     "data": {
      "text/html": [
       "<div>\n",
       "<style scoped>\n",
       "    .dataframe tbody tr th:only-of-type {\n",
       "        vertical-align: middle;\n",
       "    }\n",
       "\n",
       "    .dataframe tbody tr th {\n",
       "        vertical-align: top;\n",
       "    }\n",
       "\n",
       "    .dataframe thead th {\n",
       "        text-align: right;\n",
       "    }\n",
       "</style>\n",
       "<table border=\"1\" class=\"dataframe\">\n",
       "  <thead>\n",
       "    <tr style=\"text-align: right;\">\n",
       "      <th></th>\n",
       "      <th>agent</th>\n",
       "      <th>access</th>\n",
       "      <th>project</th>\n",
       "      <th>name</th>\n",
       "      <th>pageviews_0</th>\n",
       "      <th>pageviews_1</th>\n",
       "      <th>pageviews_2</th>\n",
       "      <th>pageviews_3</th>\n",
       "      <th>pageviews_4</th>\n",
       "      <th>pageviews_5</th>\n",
       "      <th>...</th>\n",
       "      <th>pageviews_21</th>\n",
       "      <th>pageviews_22</th>\n",
       "      <th>pageviews_23</th>\n",
       "      <th>pageviews_24</th>\n",
       "      <th>pageviews_25</th>\n",
       "      <th>pageviews_26</th>\n",
       "      <th>pageviews_27</th>\n",
       "      <th>pageviews_28</th>\n",
       "      <th>pageviews_29</th>\n",
       "      <th>target</th>\n",
       "    </tr>\n",
       "  </thead>\n",
       "  <tbody>\n",
       "    <tr>\n",
       "      <th>0</th>\n",
       "      <td>spider</td>\n",
       "      <td>all-access</td>\n",
       "      <td>zh.wikipedia.org</td>\n",
       "      <td>2NE1</td>\n",
       "      <td>14.0</td>\n",
       "      <td>47.0</td>\n",
       "      <td>15.0</td>\n",
       "      <td>14.0</td>\n",
       "      <td>18.0</td>\n",
       "      <td>20.0</td>\n",
       "      <td>...</td>\n",
       "      <td>32.0</td>\n",
       "      <td>63.0</td>\n",
       "      <td>15.0</td>\n",
       "      <td>26.0</td>\n",
       "      <td>14.0</td>\n",
       "      <td>20.0</td>\n",
       "      <td>22.0</td>\n",
       "      <td>19.0</td>\n",
       "      <td>18.0</td>\n",
       "      <td>20.0</td>\n",
       "    </tr>\n",
       "    <tr>\n",
       "      <th>1</th>\n",
       "      <td>spider</td>\n",
       "      <td>all-access</td>\n",
       "      <td>zh.wikipedia.org</td>\n",
       "      <td>2PM</td>\n",
       "      <td>17.0</td>\n",
       "      <td>23.0</td>\n",
       "      <td>19.0</td>\n",
       "      <td>21.0</td>\n",
       "      <td>47.0</td>\n",
       "      <td>28.0</td>\n",
       "      <td>...</td>\n",
       "      <td>17.0</td>\n",
       "      <td>42.0</td>\n",
       "      <td>28.0</td>\n",
       "      <td>15.0</td>\n",
       "      <td>9.0</td>\n",
       "      <td>30.0</td>\n",
       "      <td>52.0</td>\n",
       "      <td>45.0</td>\n",
       "      <td>26.0</td>\n",
       "      <td>20.0</td>\n",
       "    </tr>\n",
       "    <tr>\n",
       "      <th>2</th>\n",
       "      <td>spider</td>\n",
       "      <td>all-access</td>\n",
       "      <td>zh.wikipedia.org</td>\n",
       "      <td>3C</td>\n",
       "      <td>8.0</td>\n",
       "      <td>1.0</td>\n",
       "      <td>1.0</td>\n",
       "      <td>2.0</td>\n",
       "      <td>5.0</td>\n",
       "      <td>3.0</td>\n",
       "      <td>...</td>\n",
       "      <td>3.0</td>\n",
       "      <td>1.0</td>\n",
       "      <td>1.0</td>\n",
       "      <td>7.0</td>\n",
       "      <td>4.0</td>\n",
       "      <td>4.0</td>\n",
       "      <td>6.0</td>\n",
       "      <td>3.0</td>\n",
       "      <td>4.0</td>\n",
       "      <td>17.0</td>\n",
       "    </tr>\n",
       "    <tr>\n",
       "      <th>3</th>\n",
       "      <td>spider</td>\n",
       "      <td>all-access</td>\n",
       "      <td>zh.wikipedia.org</td>\n",
       "      <td>4minute</td>\n",
       "      <td>5.0</td>\n",
       "      <td>10.0</td>\n",
       "      <td>8.0</td>\n",
       "      <td>17.0</td>\n",
       "      <td>13.0</td>\n",
       "      <td>23.0</td>\n",
       "      <td>...</td>\n",
       "      <td>32.0</td>\n",
       "      <td>10.0</td>\n",
       "      <td>26.0</td>\n",
       "      <td>27.0</td>\n",
       "      <td>16.0</td>\n",
       "      <td>11.0</td>\n",
       "      <td>17.0</td>\n",
       "      <td>19.0</td>\n",
       "      <td>10.0</td>\n",
       "      <td>11.0</td>\n",
       "    </tr>\n",
       "    <tr>\n",
       "      <th>5</th>\n",
       "      <td>spider</td>\n",
       "      <td>all-access</td>\n",
       "      <td>zh.wikipedia.org</td>\n",
       "      <td>A'N'D</td>\n",
       "      <td>18.0</td>\n",
       "      <td>15.0</td>\n",
       "      <td>19.0</td>\n",
       "      <td>35.0</td>\n",
       "      <td>16.0</td>\n",
       "      <td>25.0</td>\n",
       "      <td>...</td>\n",
       "      <td>16.0</td>\n",
       "      <td>27.0</td>\n",
       "      <td>8.0</td>\n",
       "      <td>17.0</td>\n",
       "      <td>32.0</td>\n",
       "      <td>19.0</td>\n",
       "      <td>23.0</td>\n",
       "      <td>17.0</td>\n",
       "      <td>17.0</td>\n",
       "      <td>50.0</td>\n",
       "    </tr>\n",
       "  </tbody>\n",
       "</table>\n",
       "<p>5 rows × 35 columns</p>\n",
       "</div>"
      ],
      "text/plain": [
       "    agent      access           project     name  pageviews_0  pageviews_1  \\\n",
       "0  spider  all-access  zh.wikipedia.org     2NE1         14.0         47.0   \n",
       "1  spider  all-access  zh.wikipedia.org      2PM         17.0         23.0   \n",
       "2  spider  all-access  zh.wikipedia.org       3C          8.0          1.0   \n",
       "3  spider  all-access  zh.wikipedia.org  4minute          5.0         10.0   \n",
       "5  spider  all-access  zh.wikipedia.org    A'N'D         18.0         15.0   \n",
       "\n",
       "   pageviews_2  pageviews_3  pageviews_4  pageviews_5  ...  pageviews_21  \\\n",
       "0         15.0         14.0         18.0         20.0  ...          32.0   \n",
       "1         19.0         21.0         47.0         28.0  ...          17.0   \n",
       "2          1.0          2.0          5.0          3.0  ...           3.0   \n",
       "3          8.0         17.0         13.0         23.0  ...          32.0   \n",
       "5         19.0         35.0         16.0         25.0  ...          16.0   \n",
       "\n",
       "   pageviews_22  pageviews_23  pageviews_24  pageviews_25  pageviews_26  \\\n",
       "0          63.0          15.0          26.0          14.0          20.0   \n",
       "1          42.0          28.0          15.0           9.0          30.0   \n",
       "2           1.0           1.0           7.0           4.0           4.0   \n",
       "3          10.0          26.0          27.0          16.0          11.0   \n",
       "5          27.0           8.0          17.0          32.0          19.0   \n",
       "\n",
       "   pageviews_27  pageviews_28  pageviews_29  target  \n",
       "0          22.0          19.0          18.0    20.0  \n",
       "1          52.0          45.0          26.0    20.0  \n",
       "2           6.0           3.0           4.0    17.0  \n",
       "3          17.0          19.0          10.0    11.0  \n",
       "5          23.0          17.0          17.0    50.0  \n",
       "\n",
       "[5 rows x 35 columns]"
      ]
     },
     "execution_count": 10,
     "metadata": {},
     "output_type": "execute_result"
    }
   ],
   "source": [
    "X = X_static.merge(X_pageviews, left_index=True, right_index=True)\n",
    "X.head()"
   ]
  },
  {
   "cell_type": "code",
   "execution_count": 11,
   "metadata": {},
   "outputs": [
    {
     "data": {
      "text/plain": [
       "((117277, 4), (117277, 31), (92219, 35))"
      ]
     },
     "execution_count": 11,
     "metadata": {},
     "output_type": "execute_result"
    }
   ],
   "source": [
    "X_static.shape, X_pageviews.shape, X.shape"
   ]
  },
  {
   "cell_type": "code",
   "execution_count": 12,
   "metadata": {},
   "outputs": [
    {
     "data": {
      "text/plain": [
       "0    20.0\n",
       "1    20.0\n",
       "2    17.0\n",
       "3    11.0\n",
       "5    50.0\n",
       "Name: target, dtype: float64"
      ]
     },
     "execution_count": 12,
     "metadata": {},
     "output_type": "execute_result"
    }
   ],
   "source": [
    "y = X.pop('target')\n",
    "y.head()"
   ]
  },
  {
   "cell_type": "code",
   "execution_count": 13,
   "metadata": {},
   "outputs": [
    {
     "data": {
      "text/plain": [
       "(2, 3, 9)"
      ]
     },
     "execution_count": 13,
     "metadata": {},
     "output_type": "execute_result"
    }
   ],
   "source": [
    "X.agent.nunique(), X.access.nunique(), X.project.nunique()"
   ]
  },
  {
   "cell_type": "markdown",
   "metadata": {},
   "source": [
    "```python\n",
    "token_mapping = {k: i for i, k in enumerate(my_df[['my-column']].unique())}  # annoying\n",
    "\n",
    "i = Input((None,), name='my-column')  # naming is for the dict input\n",
    "e = Embedding(input_dim=<calculated from somewhere>, output_dim=<whatever you want>, name='my-column-embedding')\n",
    "embedding_layer = e(i)\n",
    "# ^ annoying, couldn't this be one call to something?\n",
    "\n",
    "# have to keep track of the inputs, :(\n",
    "model = Model(inputs=[i, ...])\n",
    "\n",
    "# remember this mapping? need to keep track of this too\n",
    "my_df['my-column'] = my_df['my-column'].map(token_mapping)\n",
    "model.fit(my_df.to_dict('series'), ...)\n",
    "```"
   ]
  },
  {
   "cell_type": "markdown",
   "metadata": {},
   "source": [
    "```python\n",
    "# still need to kep track of tokenizer, but Input()/Embedding()/Embedding()(Input()) is a one-liner\n",
    "# also have to keep track of input layer\n",
    "embedding_input, embedding_layer, token_mapping = make_embedding(my_df[['my-column']], make_tokenizer)\n",
    "\n",
    "model = Model(inputs=[embedding_input, ...])\n",
    "\n",
    "my_df[['my-column']] = my_df[['my-column']].map(token_mapping)\n",
    "model.fit(my_df.to_dict('series'), ...)\n",
    "```"
   ]
  },
  {
   "cell_type": "markdown",
   "metadata": {},
   "source": [
    "```python\n",
    "from tensorflow.feature_column import embedding_column, catetgorical_column_with_vocabulary_list, DenseFeatures\n",
    "\n",
    "my_feature_column = embedding_column(\n",
    "    catetgorical_column_with_vocabulary_list('my-column', my_df[['my-column']].unique())\n",
    ")\n",
    "my_feature_layer = DenseFeatures([my_feature_column])  # this is just like Dense(32)\n",
    "\n",
    "# in order to use it, have to call on an input\n",
    "my_feature_input = Input((1,), name='my-column')\n",
    "my_feature_layer_output = my_feature_layer(my_feature_input)  # this is just like Dense(32, input_shape=(...)),\n",
    "                                                              # or Dense(32)(Input(...))\n",
    "\n",
    "model = Model([my_feature_input, ...], ...)\n",
    "\n",
    "# no token mapping\n",
    "# can we look at the mapping?\n",
    "model.fit(my_df.to_dict('series'))\n",
    "```"
   ]
  },
  {
   "cell_type": "code",
   "execution_count": 32,
   "metadata": {
    "scrolled": true
   },
   "outputs": [
    {
     "ename": "AttributeError",
     "evalue": "'DenseFeatures' object has no attribute 'shape'",
     "output_type": "error",
     "traceback": [
      "\u001b[0;31m---------------------------------------------------------------------------\u001b[0m",
      "\u001b[0;31mAttributeError\u001b[0m                            Traceback (most recent call last)",
      "\u001b[0;32m<ipython-input-32-02e047838080>\u001b[0m in \u001b[0;36m<module>\u001b[0;34m\u001b[0m\n\u001b[1;32m      1\u001b[0m tf.keras.layers.Dense(32)(\n\u001b[0;32m----> 2\u001b[0;31m     \u001b[0mtf\u001b[0m\u001b[0;34m.\u001b[0m\u001b[0mkeras\u001b[0m\u001b[0;34m.\u001b[0m\u001b[0mlayers\u001b[0m\u001b[0;34m.\u001b[0m\u001b[0mDenseFeatures\u001b[0m\u001b[0;34m(\u001b[0m\u001b[0mstatic_feature_columns\u001b[0m\u001b[0;34m)\u001b[0m\u001b[0;34m\u001b[0m\u001b[0m\n\u001b[0m\u001b[1;32m      3\u001b[0m )\n",
      "\u001b[0;32m~/venvs/tf2/lib/python3.6/site-packages/tensorflow_core/python/keras/engine/base_layer.py\u001b[0m in \u001b[0;36m__call__\u001b[0;34m(self, inputs, *args, **kwargs)\u001b[0m\n\u001b[1;32m    885\u001b[0m         \u001b[0;31m# Eager execution on data tensors.\u001b[0m\u001b[0;34m\u001b[0m\u001b[0;34m\u001b[0m\u001b[0m\n\u001b[1;32m    886\u001b[0m         \u001b[0;32mwith\u001b[0m \u001b[0mbackend\u001b[0m\u001b[0;34m.\u001b[0m\u001b[0mname_scope\u001b[0m\u001b[0;34m(\u001b[0m\u001b[0mself\u001b[0m\u001b[0;34m.\u001b[0m\u001b[0m_name_scope\u001b[0m\u001b[0;34m(\u001b[0m\u001b[0;34m)\u001b[0m\u001b[0;34m)\u001b[0m\u001b[0;34m:\u001b[0m\u001b[0;34m\u001b[0m\u001b[0m\n\u001b[0;32m--> 887\u001b[0;31m           \u001b[0mself\u001b[0m\u001b[0;34m.\u001b[0m\u001b[0m_maybe_build\u001b[0m\u001b[0;34m(\u001b[0m\u001b[0minputs\u001b[0m\u001b[0;34m)\u001b[0m\u001b[0;34m\u001b[0m\u001b[0m\n\u001b[0m\u001b[1;32m    888\u001b[0m           \u001b[0mcast_inputs\u001b[0m \u001b[0;34m=\u001b[0m \u001b[0mself\u001b[0m\u001b[0;34m.\u001b[0m\u001b[0m_maybe_cast_inputs\u001b[0m\u001b[0;34m(\u001b[0m\u001b[0minputs\u001b[0m\u001b[0;34m)\u001b[0m\u001b[0;34m\u001b[0m\u001b[0m\n\u001b[1;32m    889\u001b[0m           with base_layer_utils.autocast_context_manager(\n",
      "\u001b[0;32m~/venvs/tf2/lib/python3.6/site-packages/tensorflow_core/python/keras/engine/base_layer.py\u001b[0m in \u001b[0;36m_maybe_build\u001b[0;34m(self, inputs)\u001b[0m\n\u001b[1;32m   2120\u001b[0m     \u001b[0;32mif\u001b[0m \u001b[0;32mnot\u001b[0m \u001b[0mself\u001b[0m\u001b[0;34m.\u001b[0m\u001b[0mbuilt\u001b[0m\u001b[0;34m:\u001b[0m\u001b[0;34m\u001b[0m\u001b[0m\n\u001b[1;32m   2121\u001b[0m       input_spec.assert_input_compatibility(\n\u001b[0;32m-> 2122\u001b[0;31m           self.input_spec, inputs, self.name)\n\u001b[0m\u001b[1;32m   2123\u001b[0m       \u001b[0minput_list\u001b[0m \u001b[0;34m=\u001b[0m \u001b[0mnest\u001b[0m\u001b[0;34m.\u001b[0m\u001b[0mflatten\u001b[0m\u001b[0;34m(\u001b[0m\u001b[0minputs\u001b[0m\u001b[0;34m)\u001b[0m\u001b[0;34m\u001b[0m\u001b[0m\n\u001b[1;32m   2124\u001b[0m       \u001b[0;32mif\u001b[0m \u001b[0minput_list\u001b[0m \u001b[0;32mand\u001b[0m \u001b[0mself\u001b[0m\u001b[0;34m.\u001b[0m\u001b[0m_dtype_policy\u001b[0m\u001b[0;34m.\u001b[0m\u001b[0mcompute_dtype\u001b[0m \u001b[0;32mis\u001b[0m \u001b[0;32mNone\u001b[0m\u001b[0;34m:\u001b[0m\u001b[0;34m\u001b[0m\u001b[0m\n",
      "\u001b[0;32m~/venvs/tf2/lib/python3.6/site-packages/tensorflow_core/python/keras/engine/input_spec.py\u001b[0m in \u001b[0;36massert_input_compatibility\u001b[0;34m(input_spec, inputs, layer_name)\u001b[0m\n\u001b[1;32m    161\u001b[0m         \u001b[0mspec\u001b[0m\u001b[0;34m.\u001b[0m\u001b[0mmin_ndim\u001b[0m \u001b[0;32mis\u001b[0m \u001b[0;32mnot\u001b[0m \u001b[0;32mNone\u001b[0m \u001b[0;32mor\u001b[0m\u001b[0;34m\u001b[0m\u001b[0m\n\u001b[1;32m    162\u001b[0m         spec.max_ndim is not None):\n\u001b[0;32m--> 163\u001b[0;31m       \u001b[0;32mif\u001b[0m \u001b[0mx\u001b[0m\u001b[0;34m.\u001b[0m\u001b[0mshape\u001b[0m\u001b[0;34m.\u001b[0m\u001b[0mndims\u001b[0m \u001b[0;32mis\u001b[0m \u001b[0;32mNone\u001b[0m\u001b[0;34m:\u001b[0m\u001b[0;34m\u001b[0m\u001b[0m\n\u001b[0m\u001b[1;32m    164\u001b[0m         raise ValueError('Input ' + str(input_index) + ' of layer ' +\n\u001b[1;32m    165\u001b[0m                          \u001b[0mlayer_name\u001b[0m \u001b[0;34m+\u001b[0m \u001b[0;34m' is incompatible with the layer: '\u001b[0m\u001b[0;34m\u001b[0m\u001b[0m\n",
      "\u001b[0;31mAttributeError\u001b[0m: 'DenseFeatures' object has no attribute 'shape'"
     ]
    }
   ],
   "source": [
    "tf.keras.layers.Dense(32)(\n",
    "    tf.keras.layers.DenseFeatures(static_feature_columns)\n",
    ")"
   ]
  },
  {
   "cell_type": "code",
   "execution_count": 14,
   "metadata": {},
   "outputs": [
    {
     "name": "stderr",
     "output_type": "stream",
     "text": [
      "WARNING: Logging before flag parsing goes to stderr.\n",
      "W1024 14:15:13.269235 140736132436928 deprecation.py:323] From /Users/dgates/venvs/tf2/lib/python3.6/site-packages/tensorflow_core/python/feature_column/feature_column_v2.py:4276: IndicatorColumn._variable_shape (from tensorflow.python.feature_column.feature_column_v2) is deprecated and will be removed in a future version.\n",
      "Instructions for updating:\n",
      "The old _FeatureColumn APIs are being deprecated. Please use the new FeatureColumn APIs instead.\n",
      "W1024 14:15:13.273097 140736132436928 deprecation.py:323] From /Users/dgates/venvs/tf2/lib/python3.6/site-packages/tensorflow_core/python/feature_column/feature_column_v2.py:4331: VocabularyListCategoricalColumn._num_buckets (from tensorflow.python.feature_column.feature_column_v2) is deprecated and will be removed in a future version.\n",
      "Instructions for updating:\n",
      "The old _FeatureColumn APIs are being deprecated. Please use the new FeatureColumn APIs instead.\n"
     ]
    }
   ],
   "source": [
    "import tensorflow as tf\n",
    "\n",
    "# Create feature columns for time independent features\n",
    "static_feature_columns = [\n",
    "    tf.feature_column.indicator_column(\n",
    "        tf.feature_column.categorical_column_with_vocabulary_list(\n",
    "            'agent', X.agent.unique())),\n",
    "    tf.feature_column.indicator_column(\n",
    "        tf.feature_column.categorical_column_with_vocabulary_list(\n",
    "            'access', X.access.unique())),\n",
    "    tf.feature_column.embedding_column(\n",
    "        tf.feature_column.categorical_column_with_vocabulary_list(\n",
    "            'project', X.project.unique()), 3),\n",
    "]\n",
    "\n",
    "static_feature_inputs = {\n",
    "    'agent': tf.keras.Input((1,), dtype=tf.dtypes.string, name='agent'),\n",
    "    'access': tf.keras.Input((1,), dtype=tf.dtypes.string, name='access'),\n",
    "    'project': tf.keras.Input((1,), dtype=tf.dtypes.string, name='project'),\n",
    "}\n",
    "static_layer = tf.keras.layers.DenseFeatures(static_feature_columns)\n",
    "static_inputs = static_layer(static_feature_inputs)\n",
    "\n",
    "\n",
    "# Create feature column for pageviews\n",
    "pageview_feature_columns = [\n",
    "    tf.feature_column.numeric_column(\n",
    "        f'pageviews_{i}', normalizer_fn=tf.math.log1p)\n",
    "    for i in range(30)]\n",
    "\n",
    "pageview_input_layers = [\n",
    "    tf.keras.Input((1,), name=f'pageviews_{i}')\n",
    "    for i in range(30)\n",
    "]\n",
    "\n",
    "pageview_layers = [\n",
    "    tf.keras.layers.DenseFeatures([fc])({fc.key: I})\n",
    "    for fc, I in zip(pageview_feature_columns, pageview_input_layers)\n",
    "]\n",
    "\n",
    "\n",
    "sequences = [tf.keras.layers.Concatenate()([static_inputs, L]) for L in pageview_layers]"
   ]
  },
  {
   "cell_type": "code",
   "execution_count": 15,
   "metadata": {
    "scrolled": true
   },
   "outputs": [],
   "source": [
    "# lstm\n",
    "concat = tf.keras.layers.Concatenate()\n",
    "reshape = tf.keras.layers.Reshape((-1, 30))\n",
    "lstm_input = reshape(concat(sequences))\n",
    "lstm = tf.keras.layers.LSTM(512)(lstm_input)\n",
    "output = tf.keras.layers.Dense(1)(lstm)"
   ]
  },
  {
   "cell_type": "code",
   "execution_count": 16,
   "metadata": {},
   "outputs": [],
   "source": [
    "inputs = list(static_feature_inputs.values()) + pageview_input_layers\n",
    "model = tf.keras.models.Model(inputs=inputs, outputs=output)"
   ]
  },
  {
   "cell_type": "code",
   "execution_count": 17,
   "metadata": {},
   "outputs": [
    {
     "name": "stdout",
     "output_type": "stream",
     "text": [
      "Model: \"model\"\n",
      "__________________________________________________________________________________________________\n",
      "Layer (type)                    Output Shape         Param #     Connected to                     \n",
      "==================================================================================================\n",
      "access (InputLayer)             [(None, 1)]          0                                            \n",
      "__________________________________________________________________________________________________\n",
      "agent (InputLayer)              [(None, 1)]          0                                            \n",
      "__________________________________________________________________________________________________\n",
      "project (InputLayer)            [(None, 1)]          0                                            \n",
      "__________________________________________________________________________________________________\n",
      "pageviews_0 (InputLayer)        [(None, 1)]          0                                            \n",
      "__________________________________________________________________________________________________\n",
      "pageviews_1 (InputLayer)        [(None, 1)]          0                                            \n",
      "__________________________________________________________________________________________________\n",
      "pageviews_2 (InputLayer)        [(None, 1)]          0                                            \n",
      "__________________________________________________________________________________________________\n",
      "pageviews_3 (InputLayer)        [(None, 1)]          0                                            \n",
      "__________________________________________________________________________________________________\n",
      "pageviews_4 (InputLayer)        [(None, 1)]          0                                            \n",
      "__________________________________________________________________________________________________\n",
      "pageviews_5 (InputLayer)        [(None, 1)]          0                                            \n",
      "__________________________________________________________________________________________________\n",
      "pageviews_6 (InputLayer)        [(None, 1)]          0                                            \n",
      "__________________________________________________________________________________________________\n",
      "pageviews_7 (InputLayer)        [(None, 1)]          0                                            \n",
      "__________________________________________________________________________________________________\n",
      "pageviews_8 (InputLayer)        [(None, 1)]          0                                            \n",
      "__________________________________________________________________________________________________\n",
      "pageviews_9 (InputLayer)        [(None, 1)]          0                                            \n",
      "__________________________________________________________________________________________________\n",
      "pageviews_10 (InputLayer)       [(None, 1)]          0                                            \n",
      "__________________________________________________________________________________________________\n",
      "pageviews_11 (InputLayer)       [(None, 1)]          0                                            \n",
      "__________________________________________________________________________________________________\n",
      "pageviews_12 (InputLayer)       [(None, 1)]          0                                            \n",
      "__________________________________________________________________________________________________\n",
      "pageviews_13 (InputLayer)       [(None, 1)]          0                                            \n",
      "__________________________________________________________________________________________________\n",
      "pageviews_14 (InputLayer)       [(None, 1)]          0                                            \n",
      "__________________________________________________________________________________________________\n",
      "pageviews_15 (InputLayer)       [(None, 1)]          0                                            \n",
      "__________________________________________________________________________________________________\n",
      "pageviews_16 (InputLayer)       [(None, 1)]          0                                            \n",
      "__________________________________________________________________________________________________\n",
      "pageviews_17 (InputLayer)       [(None, 1)]          0                                            \n",
      "__________________________________________________________________________________________________\n",
      "pageviews_18 (InputLayer)       [(None, 1)]          0                                            \n",
      "__________________________________________________________________________________________________\n",
      "pageviews_19 (InputLayer)       [(None, 1)]          0                                            \n",
      "__________________________________________________________________________________________________\n",
      "pageviews_20 (InputLayer)       [(None, 1)]          0                                            \n",
      "__________________________________________________________________________________________________\n",
      "pageviews_21 (InputLayer)       [(None, 1)]          0                                            \n",
      "__________________________________________________________________________________________________\n",
      "pageviews_22 (InputLayer)       [(None, 1)]          0                                            \n",
      "__________________________________________________________________________________________________\n",
      "pageviews_23 (InputLayer)       [(None, 1)]          0                                            \n",
      "__________________________________________________________________________________________________\n",
      "pageviews_24 (InputLayer)       [(None, 1)]          0                                            \n",
      "__________________________________________________________________________________________________\n",
      "pageviews_25 (InputLayer)       [(None, 1)]          0                                            \n",
      "__________________________________________________________________________________________________\n",
      "pageviews_26 (InputLayer)       [(None, 1)]          0                                            \n",
      "__________________________________________________________________________________________________\n",
      "pageviews_27 (InputLayer)       [(None, 1)]          0                                            \n",
      "__________________________________________________________________________________________________\n",
      "pageviews_28 (InputLayer)       [(None, 1)]          0                                            \n",
      "__________________________________________________________________________________________________\n",
      "pageviews_29 (InputLayer)       [(None, 1)]          0                                            \n",
      "__________________________________________________________________________________________________\n",
      "dense_features (DenseFeatures)  (None, 8)            27          access[0][0]                     \n",
      "                                                                 agent[0][0]                      \n",
      "                                                                 project[0][0]                    \n",
      "__________________________________________________________________________________________________\n",
      "dense_features_1 (DenseFeatures (None, 1)            0           pageviews_0[0][0]                \n",
      "__________________________________________________________________________________________________\n",
      "dense_features_2 (DenseFeatures (None, 1)            0           pageviews_1[0][0]                \n",
      "__________________________________________________________________________________________________\n",
      "dense_features_3 (DenseFeatures (None, 1)            0           pageviews_2[0][0]                \n",
      "__________________________________________________________________________________________________\n",
      "dense_features_4 (DenseFeatures (None, 1)            0           pageviews_3[0][0]                \n",
      "__________________________________________________________________________________________________\n",
      "dense_features_5 (DenseFeatures (None, 1)            0           pageviews_4[0][0]                \n",
      "__________________________________________________________________________________________________\n",
      "dense_features_6 (DenseFeatures (None, 1)            0           pageviews_5[0][0]                \n",
      "__________________________________________________________________________________________________\n",
      "dense_features_7 (DenseFeatures (None, 1)            0           pageviews_6[0][0]                \n",
      "__________________________________________________________________________________________________\n",
      "dense_features_8 (DenseFeatures (None, 1)            0           pageviews_7[0][0]                \n",
      "__________________________________________________________________________________________________\n",
      "dense_features_9 (DenseFeatures (None, 1)            0           pageviews_8[0][0]                \n",
      "__________________________________________________________________________________________________\n",
      "dense_features_10 (DenseFeature (None, 1)            0           pageviews_9[0][0]                \n",
      "__________________________________________________________________________________________________\n",
      "dense_features_11 (DenseFeature (None, 1)            0           pageviews_10[0][0]               \n",
      "__________________________________________________________________________________________________\n",
      "dense_features_12 (DenseFeature (None, 1)            0           pageviews_11[0][0]               \n",
      "__________________________________________________________________________________________________\n",
      "dense_features_13 (DenseFeature (None, 1)            0           pageviews_12[0][0]               \n",
      "__________________________________________________________________________________________________\n",
      "dense_features_14 (DenseFeature (None, 1)            0           pageviews_13[0][0]               \n",
      "__________________________________________________________________________________________________\n",
      "dense_features_15 (DenseFeature (None, 1)            0           pageviews_14[0][0]               \n",
      "__________________________________________________________________________________________________\n",
      "dense_features_16 (DenseFeature (None, 1)            0           pageviews_15[0][0]               \n",
      "__________________________________________________________________________________________________\n",
      "dense_features_17 (DenseFeature (None, 1)            0           pageviews_16[0][0]               \n",
      "__________________________________________________________________________________________________\n",
      "dense_features_18 (DenseFeature (None, 1)            0           pageviews_17[0][0]               \n",
      "__________________________________________________________________________________________________\n",
      "dense_features_19 (DenseFeature (None, 1)            0           pageviews_18[0][0]               \n",
      "__________________________________________________________________________________________________\n",
      "dense_features_20 (DenseFeature (None, 1)            0           pageviews_19[0][0]               \n",
      "__________________________________________________________________________________________________\n",
      "dense_features_21 (DenseFeature (None, 1)            0           pageviews_20[0][0]               \n",
      "__________________________________________________________________________________________________\n",
      "dense_features_22 (DenseFeature (None, 1)            0           pageviews_21[0][0]               \n",
      "__________________________________________________________________________________________________\n",
      "dense_features_23 (DenseFeature (None, 1)            0           pageviews_22[0][0]               \n",
      "__________________________________________________________________________________________________\n",
      "dense_features_24 (DenseFeature (None, 1)            0           pageviews_23[0][0]               \n",
      "__________________________________________________________________________________________________\n",
      "dense_features_25 (DenseFeature (None, 1)            0           pageviews_24[0][0]               \n",
      "__________________________________________________________________________________________________\n",
      "dense_features_26 (DenseFeature (None, 1)            0           pageviews_25[0][0]               \n",
      "__________________________________________________________________________________________________\n",
      "dense_features_27 (DenseFeature (None, 1)            0           pageviews_26[0][0]               \n",
      "__________________________________________________________________________________________________\n",
      "dense_features_28 (DenseFeature (None, 1)            0           pageviews_27[0][0]               \n",
      "__________________________________________________________________________________________________\n",
      "dense_features_29 (DenseFeature (None, 1)            0           pageviews_28[0][0]               \n",
      "__________________________________________________________________________________________________\n",
      "dense_features_30 (DenseFeature (None, 1)            0           pageviews_29[0][0]               \n",
      "__________________________________________________________________________________________________\n",
      "concatenate (Concatenate)       (None, 9)            0           dense_features[0][0]             \n",
      "                                                                 dense_features_1[0][0]           \n",
      "__________________________________________________________________________________________________\n",
      "concatenate_1 (Concatenate)     (None, 9)            0           dense_features[0][0]             \n",
      "                                                                 dense_features_2[0][0]           \n",
      "__________________________________________________________________________________________________\n",
      "concatenate_2 (Concatenate)     (None, 9)            0           dense_features[0][0]             \n",
      "                                                                 dense_features_3[0][0]           \n",
      "__________________________________________________________________________________________________\n",
      "concatenate_3 (Concatenate)     (None, 9)            0           dense_features[0][0]             \n",
      "                                                                 dense_features_4[0][0]           \n",
      "__________________________________________________________________________________________________\n",
      "concatenate_4 (Concatenate)     (None, 9)            0           dense_features[0][0]             \n",
      "                                                                 dense_features_5[0][0]           \n",
      "__________________________________________________________________________________________________\n",
      "concatenate_5 (Concatenate)     (None, 9)            0           dense_features[0][0]             \n",
      "                                                                 dense_features_6[0][0]           \n",
      "__________________________________________________________________________________________________\n",
      "concatenate_6 (Concatenate)     (None, 9)            0           dense_features[0][0]             \n",
      "                                                                 dense_features_7[0][0]           \n",
      "__________________________________________________________________________________________________\n",
      "concatenate_7 (Concatenate)     (None, 9)            0           dense_features[0][0]             \n",
      "                                                                 dense_features_8[0][0]           \n",
      "__________________________________________________________________________________________________\n",
      "concatenate_8 (Concatenate)     (None, 9)            0           dense_features[0][0]             \n",
      "                                                                 dense_features_9[0][0]           \n",
      "__________________________________________________________________________________________________\n",
      "concatenate_9 (Concatenate)     (None, 9)            0           dense_features[0][0]             \n",
      "                                                                 dense_features_10[0][0]          \n",
      "__________________________________________________________________________________________________\n",
      "concatenate_10 (Concatenate)    (None, 9)            0           dense_features[0][0]             \n",
      "                                                                 dense_features_11[0][0]          \n",
      "__________________________________________________________________________________________________\n",
      "concatenate_11 (Concatenate)    (None, 9)            0           dense_features[0][0]             \n",
      "                                                                 dense_features_12[0][0]          \n",
      "__________________________________________________________________________________________________\n",
      "concatenate_12 (Concatenate)    (None, 9)            0           dense_features[0][0]             \n",
      "                                                                 dense_features_13[0][0]          \n",
      "__________________________________________________________________________________________________\n",
      "concatenate_13 (Concatenate)    (None, 9)            0           dense_features[0][0]             \n",
      "                                                                 dense_features_14[0][0]          \n",
      "__________________________________________________________________________________________________\n",
      "concatenate_14 (Concatenate)    (None, 9)            0           dense_features[0][0]             \n",
      "                                                                 dense_features_15[0][0]          \n",
      "__________________________________________________________________________________________________\n",
      "concatenate_15 (Concatenate)    (None, 9)            0           dense_features[0][0]             \n",
      "                                                                 dense_features_16[0][0]          \n",
      "__________________________________________________________________________________________________\n",
      "concatenate_16 (Concatenate)    (None, 9)            0           dense_features[0][0]             \n",
      "                                                                 dense_features_17[0][0]          \n",
      "__________________________________________________________________________________________________\n",
      "concatenate_17 (Concatenate)    (None, 9)            0           dense_features[0][0]             \n",
      "                                                                 dense_features_18[0][0]          \n",
      "__________________________________________________________________________________________________\n",
      "concatenate_18 (Concatenate)    (None, 9)            0           dense_features[0][0]             \n",
      "                                                                 dense_features_19[0][0]          \n",
      "__________________________________________________________________________________________________\n",
      "concatenate_19 (Concatenate)    (None, 9)            0           dense_features[0][0]             \n",
      "                                                                 dense_features_20[0][0]          \n",
      "__________________________________________________________________________________________________\n",
      "concatenate_20 (Concatenate)    (None, 9)            0           dense_features[0][0]             \n",
      "                                                                 dense_features_21[0][0]          \n",
      "__________________________________________________________________________________________________\n",
      "concatenate_21 (Concatenate)    (None, 9)            0           dense_features[0][0]             \n",
      "                                                                 dense_features_22[0][0]          \n",
      "__________________________________________________________________________________________________\n",
      "concatenate_22 (Concatenate)    (None, 9)            0           dense_features[0][0]             \n",
      "                                                                 dense_features_23[0][0]          \n",
      "__________________________________________________________________________________________________\n",
      "concatenate_23 (Concatenate)    (None, 9)            0           dense_features[0][0]             \n",
      "                                                                 dense_features_24[0][0]          \n",
      "__________________________________________________________________________________________________\n",
      "concatenate_24 (Concatenate)    (None, 9)            0           dense_features[0][0]             \n",
      "                                                                 dense_features_25[0][0]          \n",
      "__________________________________________________________________________________________________\n",
      "concatenate_25 (Concatenate)    (None, 9)            0           dense_features[0][0]             \n",
      "                                                                 dense_features_26[0][0]          \n",
      "__________________________________________________________________________________________________\n",
      "concatenate_26 (Concatenate)    (None, 9)            0           dense_features[0][0]             \n",
      "                                                                 dense_features_27[0][0]          \n",
      "__________________________________________________________________________________________________\n",
      "concatenate_27 (Concatenate)    (None, 9)            0           dense_features[0][0]             \n",
      "                                                                 dense_features_28[0][0]          \n",
      "__________________________________________________________________________________________________\n",
      "concatenate_28 (Concatenate)    (None, 9)            0           dense_features[0][0]             \n",
      "                                                                 dense_features_29[0][0]          \n",
      "__________________________________________________________________________________________________\n",
      "concatenate_29 (Concatenate)    (None, 9)            0           dense_features[0][0]             \n",
      "                                                                 dense_features_30[0][0]          \n",
      "__________________________________________________________________________________________________\n",
      "concatenate_30 (Concatenate)    (None, 270)          0           concatenate[0][0]                \n",
      "                                                                 concatenate_1[0][0]              \n",
      "                                                                 concatenate_2[0][0]              \n",
      "                                                                 concatenate_3[0][0]              \n",
      "                                                                 concatenate_4[0][0]              \n",
      "                                                                 concatenate_5[0][0]              \n",
      "                                                                 concatenate_6[0][0]              \n",
      "                                                                 concatenate_7[0][0]              \n",
      "                                                                 concatenate_8[0][0]              \n",
      "                                                                 concatenate_9[0][0]              \n",
      "                                                                 concatenate_10[0][0]             \n",
      "                                                                 concatenate_11[0][0]             \n",
      "                                                                 concatenate_12[0][0]             \n",
      "                                                                 concatenate_13[0][0]             \n",
      "                                                                 concatenate_14[0][0]             \n",
      "                                                                 concatenate_15[0][0]             \n",
      "                                                                 concatenate_16[0][0]             \n",
      "                                                                 concatenate_17[0][0]             \n",
      "                                                                 concatenate_18[0][0]             \n",
      "                                                                 concatenate_19[0][0]             \n",
      "                                                                 concatenate_20[0][0]             \n",
      "                                                                 concatenate_21[0][0]             \n",
      "                                                                 concatenate_22[0][0]             \n",
      "                                                                 concatenate_23[0][0]             \n",
      "                                                                 concatenate_24[0][0]             \n",
      "                                                                 concatenate_25[0][0]             \n",
      "                                                                 concatenate_26[0][0]             \n",
      "                                                                 concatenate_27[0][0]             \n",
      "                                                                 concatenate_28[0][0]             \n",
      "                                                                 concatenate_29[0][0]             \n",
      "__________________________________________________________________________________________________\n",
      "reshape (Reshape)               (None, None, 30)     0           concatenate_30[0][0]             \n",
      "__________________________________________________________________________________________________\n",
      "lstm (LSTM)                     (None, 512)          1112064     reshape[0][0]                    \n",
      "__________________________________________________________________________________________________\n",
      "dense (Dense)                   (None, 1)            513         lstm[0][0]                       \n",
      "==================================================================================================\n",
      "Total params: 1,112,604\n",
      "Trainable params: 1,112,604\n",
      "Non-trainable params: 0\n",
      "__________________________________________________________________________________________________\n"
     ]
    }
   ],
   "source": [
    "model.summary()"
   ]
  },
  {
   "cell_type": "code",
   "execution_count": 18,
   "metadata": {},
   "outputs": [
    {
     "name": "stderr",
     "output_type": "stream",
     "text": [
      "Using TensorFlow backend.\n"
     ]
    },
    {
     "ename": "AssertionError",
     "evalue": "",
     "output_type": "error",
     "traceback": [
      "\u001b[0;31m---------------------------------------------------------------------------\u001b[0m",
      "\u001b[0;31mAssertionError\u001b[0m                            Traceback (most recent call last)",
      "\u001b[0;32m<ipython-input-18-47504ae4d3ec>\u001b[0m in \u001b[0;36m<module>\u001b[0;34m\u001b[0m\n\u001b[1;32m      1\u001b[0m \u001b[0;32mfrom\u001b[0m \u001b[0mIPython\u001b[0m\u001b[0;34m.\u001b[0m\u001b[0mdisplay\u001b[0m \u001b[0;32mimport\u001b[0m \u001b[0mSVG\u001b[0m\u001b[0;34m\u001b[0m\u001b[0m\n\u001b[1;32m      2\u001b[0m \u001b[0;32mfrom\u001b[0m \u001b[0mkeras\u001b[0m\u001b[0;34m.\u001b[0m\u001b[0mutils\u001b[0m\u001b[0;34m.\u001b[0m\u001b[0mvis_utils\u001b[0m \u001b[0;32mimport\u001b[0m \u001b[0mmodel_to_dot\u001b[0m\u001b[0;34m\u001b[0m\u001b[0m\n\u001b[0;32m----> 3\u001b[0;31m \u001b[0mSVG\u001b[0m\u001b[0;34m(\u001b[0m\u001b[0mmodel_to_dot\u001b[0m\u001b[0;34m(\u001b[0m\u001b[0mmodel\u001b[0m\u001b[0;34m)\u001b[0m\u001b[0;34m.\u001b[0m\u001b[0mcreate\u001b[0m\u001b[0;34m(\u001b[0m\u001b[0mprog\u001b[0m\u001b[0;34m=\u001b[0m\u001b[0;34m'dot'\u001b[0m\u001b[0;34m,\u001b[0m \u001b[0mformat\u001b[0m\u001b[0;34m=\u001b[0m\u001b[0;34m'svg'\u001b[0m\u001b[0;34m)\u001b[0m\u001b[0;34m)\u001b[0m\u001b[0;34m\u001b[0m\u001b[0m\n\u001b[0m",
      "\u001b[0;32m~/venvs/tf2/lib/python3.6/site-packages/keras/utils/vis_utils.py\u001b[0m in \u001b[0;36mmodel_to_dot\u001b[0;34m(model, show_shapes, show_layer_names, rankdir, expand_nested, dpi, subgraph)\u001b[0m\n\u001b[1;32m    170\u001b[0m                     \u001b[0minbound_layer_id\u001b[0m \u001b[0;34m=\u001b[0m \u001b[0mstr\u001b[0m\u001b[0;34m(\u001b[0m\u001b[0mid\u001b[0m\u001b[0;34m(\u001b[0m\u001b[0minbound_layer\u001b[0m\u001b[0;34m)\u001b[0m\u001b[0;34m)\u001b[0m\u001b[0;34m\u001b[0m\u001b[0m\n\u001b[1;32m    171\u001b[0m                     \u001b[0;32mif\u001b[0m \u001b[0;32mnot\u001b[0m \u001b[0mexpand_nested\u001b[0m\u001b[0;34m:\u001b[0m\u001b[0;34m\u001b[0m\u001b[0m\n\u001b[0;32m--> 172\u001b[0;31m                         \u001b[0;32massert\u001b[0m \u001b[0mdot\u001b[0m\u001b[0;34m.\u001b[0m\u001b[0mget_node\u001b[0m\u001b[0;34m(\u001b[0m\u001b[0minbound_layer_id\u001b[0m\u001b[0;34m)\u001b[0m\u001b[0;34m\u001b[0m\u001b[0m\n\u001b[0m\u001b[1;32m    173\u001b[0m                         \u001b[0;32massert\u001b[0m \u001b[0mdot\u001b[0m\u001b[0;34m.\u001b[0m\u001b[0mget_node\u001b[0m\u001b[0;34m(\u001b[0m\u001b[0mlayer_id\u001b[0m\u001b[0;34m)\u001b[0m\u001b[0;34m\u001b[0m\u001b[0m\n\u001b[1;32m    174\u001b[0m                         \u001b[0mdot\u001b[0m\u001b[0;34m.\u001b[0m\u001b[0madd_edge\u001b[0m\u001b[0;34m(\u001b[0m\u001b[0mpydot\u001b[0m\u001b[0;34m.\u001b[0m\u001b[0mEdge\u001b[0m\u001b[0;34m(\u001b[0m\u001b[0minbound_layer_id\u001b[0m\u001b[0;34m,\u001b[0m \u001b[0mlayer_id\u001b[0m\u001b[0;34m)\u001b[0m\u001b[0;34m)\u001b[0m\u001b[0;34m\u001b[0m\u001b[0m\n",
      "\u001b[0;31mAssertionError\u001b[0m: "
     ]
    }
   ],
   "source": [
    "from IPython.display import SVG\n",
    "from keras.utils.vis_utils import model_to_dot\n",
    "SVG(model_to_dot(model).create(prog='dot', format='svg'))"
   ]
  },
  {
   "cell_type": "code",
   "execution_count": 19,
   "metadata": {},
   "outputs": [],
   "source": [
    "import numpy as np\n",
    "train_idx = np.random.choice([True, False], p=[0.75, 0.25], size=len(X))"
   ]
  },
  {
   "cell_type": "code",
   "execution_count": 20,
   "metadata": {},
   "outputs": [],
   "source": [
    "X_train = X[train_idx]\n",
    "X_test = X[~train_idx]\n",
    "y_train = y[train_idx]\n",
    "y_test = y[~train_idx]"
   ]
  },
  {
   "cell_type": "code",
   "execution_count": 21,
   "metadata": {},
   "outputs": [],
   "source": [
    "# X_train = all_feature_set.transform(X_train)\n",
    "# X_test = all_feature_set.transform(X_test)"
   ]
  },
  {
   "cell_type": "code",
   "execution_count": 22,
   "metadata": {},
   "outputs": [
    {
     "data": {
      "text/plain": [
       "<matplotlib.axes._subplots.AxesSubplot at 0x118d18588>"
      ]
     },
     "execution_count": 22,
     "metadata": {},
     "output_type": "execute_result"
    },
    {
     "data": {
      "image/png": "[encoded data removed]",
      "text/plain": [
       "<Figure size 432x288 with 1 Axes>"
      ]
     },
     "metadata": {
      "needs_background": "light"
     },
     "output_type": "display_data"
    }
   ],
   "source": [
    "np.log10(y_train+1e-1).hist()"
   ]
  },
  {
   "cell_type": "code",
   "execution_count": 23,
   "metadata": {},
   "outputs": [
    {
     "data": {
      "text/plain": [
       "<matplotlib.axes._subplots.AxesSubplot at 0x118d2cf28>"
      ]
     },
     "execution_count": 23,
     "metadata": {},
     "output_type": "execute_result"
    },
    {
     "data": {
      "image/png": "[encoded data removed]",
      "text/plain": [
       "<Figure size 432x288 with 1 Axes>"
      ]
     },
     "metadata": {
      "needs_background": "light"
     },
     "output_type": "display_data"
    }
   ],
   "source": [
    "np.log10(y_test+1e-1).hist()"
   ]
  },
  {
   "cell_type": "code",
   "execution_count": 24,
   "metadata": {},
   "outputs": [],
   "source": [
    "import tensorflow as tf\n",
    "model.compile(loss=tf.losses.Huber(), optimizer='adam')"
   ]
  },
  {
   "cell_type": "code",
   "execution_count": 25,
   "metadata": {
    "scrolled": true
   },
   "outputs": [],
   "source": [
    "z = {k: v.values for k, v in dict(X_train).items()}"
   ]
  },
  {
   "cell_type": "code",
   "execution_count": 26,
   "metadata": {
    "scrolled": true
   },
   "outputs": [
    {
     "name": "stderr",
     "output_type": "stream",
     "text": [
      "W1024 14:15:20.317030 140736132436928 training.py:504] Falling back from v2 loop because of error: Failed to find data adapter that can handle input: (<class 'dict'> containing {\"<class 'str'>\"} keys and {\"<class 'pandas.core.series.Series'>\"} values), <class 'NoneType'>\n"
     ]
    },
    {
     "name": "stdout",
     "output_type": "stream",
     "text": [
      "Train on 69051 samples, validate on 23168 samples\n",
      "Epoch 1/3\n",
      "69051/69051 [==============================] - 132s 2ms/sample - loss: 0.0247 - val_loss: 0.0212\n",
      "Epoch 2/3\n",
      "69051/69051 [==============================] - 131s 2ms/sample - loss: 0.0198 - val_loss: 0.0204\n",
      "Epoch 3/3\n",
      "69051/69051 [==============================] - 127s 2ms/sample - loss: 0.0193 - val_loss: 0.0187\n"
     ]
    },
    {
     "data": {
      "text/plain": [
       "<tensorflow.python.keras.callbacks.History at 0x111680d30>"
      ]
     },
     "execution_count": 26,
     "metadata": {},
     "output_type": "execute_result"
    }
   ],
   "source": [
    "model.fit(\n",
    "    X_train.to_dict('series'),\n",
    "    np.log10(y_train+1),\n",
    "    epochs=3,\n",
    "    validation_data=(X_test.to_dict('series'), np.log10(y_test+1)))"
   ]
  },
  {
   "cell_type": "code",
   "execution_count": 54,
   "metadata": {},
   "outputs": [
    {
     "name": "stderr",
     "output_type": "stream",
     "text": [
      "W1021 13:46:31.624719 140736850858944 training.py:504] Falling back from v2 loop because of error: Failed to find data adapter that can handle input: (<class 'dict'> containing {\"<class 'str'>\"} keys and {\"<class 'pandas.core.series.Series'>\"} values), <class 'NoneType'>\n"
     ]
    },
    {
     "data": {
      "text/plain": [
       "[<matplotlib.lines.Line2D at 0x11b6b7630>]"
      ]
     },
     "execution_count": 54,
     "metadata": {},
     "output_type": "execute_result"
    },
    {
     "data": {
      "image/png": "[encoded data removed]",
      "text/plain": [
       "<Figure size 576x396 with 1 Axes>"
      ]
     },
     "metadata": {},
     "output_type": "display_data"
    }
   ],
   "source": [
    "import matplotlib.pyplot as plt\n",
    "plt.style.use('seaborn')\n",
    "p = model.predict(X_test.to_dict('series'))[:, 0]\n",
    "plt.scatter(np.log10(y_test+1), p, alpha=0.05)\n",
    "plt.plot([0, 7], [0, 7], color='r')"
   ]
  },
  {
   "cell_type": "code",
   "execution_count": null,
   "metadata": {},
   "outputs": [],
   "source": []
  }
 ],
 "metadata": {
  "kernelspec": {
   "display_name": "Python 3",
   "language": "python",
   "name": "python3"
  },
  "language_info": {
   "codemirror_mode": {
    "name": "ipython",
    "version": 3
   },
   "file_extension": ".py",
   "mimetype": "text/x-python",
   "name": "python",
   "nbconvert_exporter": "python",
   "pygments_lexer": "ipython3",
   "version": "3.6.2"
  }
 },
 "nbformat": 4,
 "nbformat_minor": 2
}
